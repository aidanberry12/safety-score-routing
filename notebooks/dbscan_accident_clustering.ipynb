{
  "nbformat": 4,
  "nbformat_minor": 0,
  "metadata": {
    "colab": {
      "name": "dbscan_accident_clustering.ipynb",
      "provenance": [],
      "collapsed_sections": []
    },
    "kernelspec": {
      "display_name": "Python 3",
      "language": "python",
      "name": "python3"
    },
    "language_info": {
      "codemirror_mode": {
        "name": "ipython",
        "version": 3
      },
      "file_extension": ".py",
      "mimetype": "text/x-python",
      "name": "python",
      "nbconvert_exporter": "python",
      "pygments_lexer": "ipython3",
      "version": "3.7.6"
    }
  },
  "cells": [
    {
      "cell_type": "code",
      "metadata": {
        "id": "cHocJyWYQwgD",
        "colab": {
          "base_uri": "https://localhost:8080/"
        },
        "outputId": "beb66671-8b68-48dd-eaef-97bb1fcacfb4"
      },
      "source": [
        "from google.colab import drive\n",
        "drive.mount('/content/drive')"
      ],
      "execution_count": 5,
      "outputs": [
        {
          "output_type": "stream",
          "name": "stdout",
          "text": [
            "Drive already mounted at /content/drive; to attempt to forcibly remount, call drive.mount(\"/content/drive\", force_remount=True).\n"
          ]
        }
      ]
    },
    {
      "cell_type": "code",
      "metadata": {
        "id": "O4_54-PDBEzI"
      },
      "source": [
        "\n",
        "import os\n",
        "os.environ['PROJ_LIB'] = r'C:\\Users\\aidan\\anaconda3\\pkgs\\proj4-5.2.0-ha925a31_1\\Library\\share'"
      ],
      "execution_count": 6,
      "outputs": []
    },
    {
      "cell_type": "code",
      "metadata": {
        "colab": {
          "base_uri": "https://localhost:8080/"
        },
        "id": "j4zy1FA3BEzP",
        "outputId": "a4cb447c-6af6-43b7-9dd2-2381a3f677e5"
      },
      "source": [
        "!apt-get install libgeos-3.5.0\n",
        "!apt-get install libgeos-dev\n",
        "!pip install https://github.com/matplotlib/basemap/archive/master.zip\n",
        "import pandas as pd\n",
        "import numpy as np\n",
        "from mpl_toolkits.basemap import Basemap\n",
        "import matplotlib.pyplot as plt"
      ],
      "execution_count": 7,
      "outputs": [
        {
          "output_type": "stream",
          "name": "stdout",
          "text": [
            "Reading package lists... Done\n",
            "Building dependency tree       \n",
            "Reading state information... Done\n",
            "E: Unable to locate package libgeos-3.5.0\n",
            "E: Couldn't find any package by glob 'libgeos-3.5.0'\n",
            "E: Couldn't find any package by regex 'libgeos-3.5.0'\n",
            "Reading package lists... Done\n",
            "Building dependency tree       \n",
            "Reading state information... Done\n",
            "libgeos-dev is already the newest version (3.6.2-1build2).\n",
            "0 upgraded, 0 newly installed, 0 to remove and 37 not upgraded.\n",
            "Collecting https://github.com/matplotlib/basemap/archive/master.zip\n",
            "  Using cached https://github.com/matplotlib/basemap/archive/master.zip (133.1 MB)\n",
            "Requirement already satisfied: matplotlib!=3.0.1,>=1.0.0 in /usr/local/lib/python3.7/dist-packages (from basemap==1.2.2+dev) (3.2.2)\n",
            "Requirement already satisfied: numpy>=1.2.1 in /usr/local/lib/python3.7/dist-packages (from basemap==1.2.2+dev) (1.19.5)\n",
            "Requirement already satisfied: pyproj>=1.9.3 in /usr/local/lib/python3.7/dist-packages (from basemap==1.2.2+dev) (3.2.1)\n",
            "Requirement already satisfied: pyshp>=1.2.0 in /usr/local/lib/python3.7/dist-packages (from basemap==1.2.2+dev) (2.1.3)\n",
            "Requirement already satisfied: six in /usr/local/lib/python3.7/dist-packages (from basemap==1.2.2+dev) (1.15.0)\n",
            "Requirement already satisfied: cycler>=0.10 in /usr/local/lib/python3.7/dist-packages (from matplotlib!=3.0.1,>=1.0.0->basemap==1.2.2+dev) (0.10.0)\n",
            "Requirement already satisfied: kiwisolver>=1.0.1 in /usr/local/lib/python3.7/dist-packages (from matplotlib!=3.0.1,>=1.0.0->basemap==1.2.2+dev) (1.3.2)\n",
            "Requirement already satisfied: pyparsing!=2.0.4,!=2.1.2,!=2.1.6,>=2.0.1 in /usr/local/lib/python3.7/dist-packages (from matplotlib!=3.0.1,>=1.0.0->basemap==1.2.2+dev) (2.4.7)\n",
            "Requirement already satisfied: python-dateutil>=2.1 in /usr/local/lib/python3.7/dist-packages (from matplotlib!=3.0.1,>=1.0.0->basemap==1.2.2+dev) (2.8.2)\n",
            "Requirement already satisfied: certifi in /usr/local/lib/python3.7/dist-packages (from pyproj>=1.9.3->basemap==1.2.2+dev) (2021.5.30)\n",
            "Traceback (most recent call last):\n",
            "  File \"/usr/local/bin/pip3\", line 8, in <module>\n",
            "    sys.exit(main())\n",
            "  File \"/usr/local/lib/python3.7/dist-packages/pip/_internal/cli/main.py\", line 71, in main\n",
            "    return command.main(cmd_args)\n",
            "  File \"/usr/local/lib/python3.7/dist-packages/pip/_internal/cli/base_command.py\", line 104, in main\n",
            "    return self._main(args)\n",
            "  File \"/usr/lib/python3.7/contextlib.py\", line 119, in __exit__\n",
            "    next(self.gen)\n",
            "  File \"/usr/local/lib/python3.7/dist-packages/pip/_internal/cli/command_context.py\", line 22, in main_context\n",
            "    yield\n",
            "  File \"/usr/lib/python3.7/contextlib.py\", line 524, in __exit__\n",
            "    raise exc_details[1]\n",
            "  File \"/usr/lib/python3.7/contextlib.py\", line 130, in __exit__\n",
            "    self.gen.throw(type, value, traceback)\n",
            "  File \"/usr/local/lib/python3.7/dist-packages/pip/_internal/utils/temp_dir.py\", line 75, in tempdir_registry\n",
            "    yield _tempdir_registry\n",
            "  File \"/usr/lib/python3.7/contextlib.py\", line 509, in __exit__\n",
            "    if cb(*exc_details):\n",
            "  File \"/usr/lib/python3.7/contextlib.py\", line 377, in _exit_wrapper\n",
            "    return cm_exit(cm, exc_type, exc, tb)\n",
            "  File \"/usr/lib/python3.7/contextlib.py\", line 119, in __exit__\n",
            "    next(self.gen)\n",
            "  File \"/usr/local/lib/python3.7/dist-packages/pip/_internal/utils/temp_dir.py\", line 37, in global_tempdir_manager\n",
            "    _tempdir_manager = old_tempdir_manager\n",
            "  File \"/usr/lib/python3.7/contextlib.py\", line 524, in __exit__\n",
            "    raise exc_details[1]\n",
            "  File \"/usr/lib/python3.7/contextlib.py\", line 509, in __exit__\n",
            "    if cb(*exc_details):\n",
            "  File \"/usr/lib/python3.7/contextlib.py\", line 377, in _exit_wrapper\n",
            "    return cm_exit(cm, exc_type, exc, tb)\n",
            "  File \"/usr/local/lib/python3.7/dist-packages/pip/_internal/utils/temp_dir.py\", line 165, in __exit__\n",
            "    self.cleanup()\n",
            "  File \"/usr/local/lib/python3.7/dist-packages/pip/_internal/utils/temp_dir.py\", line 184, in cleanup\n",
            "    rmtree(self._path)\n",
            "  File \"/usr/local/lib/python3.7/dist-packages/pip/_vendor/tenacity/__init__.py\", line 341, in wrapped_f\n",
            "    return self(f, *args, **kw)\n",
            "  File \"/usr/local/lib/python3.7/dist-packages/pip/_vendor/tenacity/__init__.py\", line 432, in __call__\n",
            "    do = self.iter(retry_state=retry_state)\n",
            "  File \"/usr/local/lib/python3.7/dist-packages/pip/_vendor/tenacity/__init__.py\", line 369, in iter\n",
            "    return fut.result()\n",
            "  File \"/usr/lib/python3.7/concurrent/futures/_base.py\", line 428, in result\n",
            "    return self.__get_result()\n",
            "  File \"/usr/lib/python3.7/concurrent/futures/_base.py\", line 384, in __get_result\n",
            "    raise self._exception\n",
            "  File \"/usr/local/lib/python3.7/dist-packages/pip/_vendor/tenacity/__init__.py\", line 435, in __call__\n",
            "    result = fn(*args, **kwargs)\n",
            "  File \"/usr/local/lib/python3.7/dist-packages/pip/_internal/utils/misc.py\", line 135, in rmtree\n",
            "    shutil.rmtree(dir, ignore_errors=ignore_errors, onerror=rmtree_errorhandler)\n",
            "  File \"/usr/lib/python3.7/shutil.py\", line 494, in rmtree\n",
            "    _rmtree_safe_fd(fd, path, onerror)\n",
            "  File \"/usr/lib/python3.7/shutil.py\", line 432, in _rmtree_safe_fd\n",
            "    _rmtree_safe_fd(dirfd, fullname, onerror)\n",
            "  File \"/usr/lib/python3.7/shutil.py\", line 432, in _rmtree_safe_fd\n",
            "    _rmtree_safe_fd(dirfd, fullname, onerror)\n",
            "  File \"/usr/lib/python3.7/shutil.py\", line 450, in _rmtree_safe_fd\n",
            "    os.unlink(entry.name, dir_fd=topfd)\n",
            "KeyboardInterrupt\n"
          ]
        }
      ]
    },
    {
      "cell_type": "code",
      "metadata": {
        "colab": {
          "base_uri": "https://localhost:8080/",
          "height": 434
        },
        "id": "DOCO9GmYBEzQ",
        "outputId": "eb421bbe-bda0-45d8-b653-8a44bfc76b35"
      },
      "source": [
        "df = pd.read_csv('US_Accidents_Dec20_updated.csv')\n",
        "df = df[df['Start_Lat'].notna()]\n",
        "df = df[df['Start_Lng'].notna()]\n",
        "df.head()"
      ],
      "execution_count": 63,
      "outputs": [
        {
          "output_type": "execute_result",
          "data": {
            "text/html": [
              "<div>\n",
              "<style scoped>\n",
              "    .dataframe tbody tr th:only-of-type {\n",
              "        vertical-align: middle;\n",
              "    }\n",
              "\n",
              "    .dataframe tbody tr th {\n",
              "        vertical-align: top;\n",
              "    }\n",
              "\n",
              "    .dataframe thead th {\n",
              "        text-align: right;\n",
              "    }\n",
              "</style>\n",
              "<table border=\"1\" class=\"dataframe\">\n",
              "  <thead>\n",
              "    <tr style=\"text-align: right;\">\n",
              "      <th></th>\n",
              "      <th>ID</th>\n",
              "      <th>Severity</th>\n",
              "      <th>Start_Time</th>\n",
              "      <th>End_Time</th>\n",
              "      <th>Start_Lat</th>\n",
              "      <th>Start_Lng</th>\n",
              "      <th>End_Lat</th>\n",
              "      <th>End_Lng</th>\n",
              "      <th>Distance(mi)</th>\n",
              "      <th>Description</th>\n",
              "      <th>Number</th>\n",
              "      <th>Street</th>\n",
              "      <th>Side</th>\n",
              "      <th>City</th>\n",
              "      <th>County</th>\n",
              "      <th>State</th>\n",
              "      <th>Zipcode</th>\n",
              "      <th>Country</th>\n",
              "      <th>Timezone</th>\n",
              "      <th>Airport_Code</th>\n",
              "      <th>Weather_Timestamp</th>\n",
              "      <th>Temperature(F)</th>\n",
              "      <th>Wind_Chill(F)</th>\n",
              "      <th>Humidity(%)</th>\n",
              "      <th>Pressure(in)</th>\n",
              "      <th>Visibility(mi)</th>\n",
              "      <th>Wind_Direction</th>\n",
              "      <th>Wind_Speed(mph)</th>\n",
              "      <th>Precipitation(in)</th>\n",
              "      <th>Weather_Condition</th>\n",
              "      <th>Amenity</th>\n",
              "      <th>Bump</th>\n",
              "      <th>Crossing</th>\n",
              "      <th>Give_Way</th>\n",
              "      <th>Junction</th>\n",
              "      <th>No_Exit</th>\n",
              "      <th>Railway</th>\n",
              "      <th>Roundabout</th>\n",
              "      <th>Station</th>\n",
              "      <th>Stop</th>\n",
              "      <th>Traffic_Calming</th>\n",
              "      <th>Traffic_Signal</th>\n",
              "      <th>Turning_Loop</th>\n",
              "      <th>Sunrise_Sunset</th>\n",
              "      <th>Civil_Twilight</th>\n",
              "      <th>Nautical_Twilight</th>\n",
              "      <th>Astronomical_Twilight</th>\n",
              "    </tr>\n",
              "  </thead>\n",
              "  <tbody>\n",
              "    <tr>\n",
              "      <th>0</th>\n",
              "      <td>A-2716600</td>\n",
              "      <td>3</td>\n",
              "      <td>2016-02-08 00:37:08</td>\n",
              "      <td>2016-02-08 06:37:08</td>\n",
              "      <td>40.10891</td>\n",
              "      <td>-83.09286</td>\n",
              "      <td>40.11206</td>\n",
              "      <td>-83.03187</td>\n",
              "      <td>3.230</td>\n",
              "      <td>Between Sawmill Rd/Exit 20 and OH-315/Olentang...</td>\n",
              "      <td>NaN</td>\n",
              "      <td>Outerbelt E</td>\n",
              "      <td>R</td>\n",
              "      <td>Dublin</td>\n",
              "      <td>Franklin</td>\n",
              "      <td>OH</td>\n",
              "      <td>43017</td>\n",
              "      <td>US</td>\n",
              "      <td>US/Eastern</td>\n",
              "      <td>KOSU</td>\n",
              "      <td>2016-02-08 00:53:00</td>\n",
              "      <td>42.1</td>\n",
              "      <td>36.1</td>\n",
              "      <td>58.0</td>\n",
              "      <td>29.76</td>\n",
              "      <td>10.0</td>\n",
              "      <td>SW</td>\n",
              "      <td>10.4</td>\n",
              "      <td>0.00</td>\n",
              "      <td>Light Rain</td>\n",
              "      <td>False</td>\n",
              "      <td>False</td>\n",
              "      <td>False</td>\n",
              "      <td>False</td>\n",
              "      <td>False</td>\n",
              "      <td>False</td>\n",
              "      <td>False</td>\n",
              "      <td>False</td>\n",
              "      <td>False</td>\n",
              "      <td>False</td>\n",
              "      <td>False</td>\n",
              "      <td>False</td>\n",
              "      <td>False</td>\n",
              "      <td>Night</td>\n",
              "      <td>Night</td>\n",
              "      <td>Night</td>\n",
              "      <td>Night</td>\n",
              "    </tr>\n",
              "    <tr>\n",
              "      <th>1</th>\n",
              "      <td>A-2716601</td>\n",
              "      <td>2</td>\n",
              "      <td>2016-02-08 05:56:20</td>\n",
              "      <td>2016-02-08 11:56:20</td>\n",
              "      <td>39.86542</td>\n",
              "      <td>-84.06280</td>\n",
              "      <td>39.86501</td>\n",
              "      <td>-84.04873</td>\n",
              "      <td>0.747</td>\n",
              "      <td>At OH-4/OH-235/Exit 41 - Accident.</td>\n",
              "      <td>NaN</td>\n",
              "      <td>I-70 E</td>\n",
              "      <td>R</td>\n",
              "      <td>Dayton</td>\n",
              "      <td>Montgomery</td>\n",
              "      <td>OH</td>\n",
              "      <td>45424</td>\n",
              "      <td>US</td>\n",
              "      <td>US/Eastern</td>\n",
              "      <td>KFFO</td>\n",
              "      <td>2016-02-08 05:58:00</td>\n",
              "      <td>36.9</td>\n",
              "      <td>NaN</td>\n",
              "      <td>91.0</td>\n",
              "      <td>29.68</td>\n",
              "      <td>10.0</td>\n",
              "      <td>Calm</td>\n",
              "      <td>NaN</td>\n",
              "      <td>0.02</td>\n",
              "      <td>Light Rain</td>\n",
              "      <td>False</td>\n",
              "      <td>False</td>\n",
              "      <td>False</td>\n",
              "      <td>False</td>\n",
              "      <td>False</td>\n",
              "      <td>False</td>\n",
              "      <td>False</td>\n",
              "      <td>False</td>\n",
              "      <td>False</td>\n",
              "      <td>False</td>\n",
              "      <td>False</td>\n",
              "      <td>False</td>\n",
              "      <td>False</td>\n",
              "      <td>Night</td>\n",
              "      <td>Night</td>\n",
              "      <td>Night</td>\n",
              "      <td>Night</td>\n",
              "    </tr>\n",
              "    <tr>\n",
              "      <th>2</th>\n",
              "      <td>A-2716602</td>\n",
              "      <td>2</td>\n",
              "      <td>2016-02-08 06:15:39</td>\n",
              "      <td>2016-02-08 12:15:39</td>\n",
              "      <td>39.10266</td>\n",
              "      <td>-84.52468</td>\n",
              "      <td>39.10209</td>\n",
              "      <td>-84.52396</td>\n",
              "      <td>0.055</td>\n",
              "      <td>At I-71/US-50/Exit 1 - Accident.</td>\n",
              "      <td>NaN</td>\n",
              "      <td>I-75 S</td>\n",
              "      <td>R</td>\n",
              "      <td>Cincinnati</td>\n",
              "      <td>Hamilton</td>\n",
              "      <td>OH</td>\n",
              "      <td>45203</td>\n",
              "      <td>US</td>\n",
              "      <td>US/Eastern</td>\n",
              "      <td>KLUK</td>\n",
              "      <td>2016-02-08 05:53:00</td>\n",
              "      <td>36.0</td>\n",
              "      <td>NaN</td>\n",
              "      <td>97.0</td>\n",
              "      <td>29.70</td>\n",
              "      <td>10.0</td>\n",
              "      <td>Calm</td>\n",
              "      <td>NaN</td>\n",
              "      <td>0.02</td>\n",
              "      <td>Overcast</td>\n",
              "      <td>False</td>\n",
              "      <td>False</td>\n",
              "      <td>False</td>\n",
              "      <td>False</td>\n",
              "      <td>True</td>\n",
              "      <td>False</td>\n",
              "      <td>False</td>\n",
              "      <td>False</td>\n",
              "      <td>False</td>\n",
              "      <td>False</td>\n",
              "      <td>False</td>\n",
              "      <td>False</td>\n",
              "      <td>False</td>\n",
              "      <td>Night</td>\n",
              "      <td>Night</td>\n",
              "      <td>Night</td>\n",
              "      <td>Day</td>\n",
              "    </tr>\n",
              "    <tr>\n",
              "      <th>3</th>\n",
              "      <td>A-2716603</td>\n",
              "      <td>2</td>\n",
              "      <td>2016-02-08 06:15:39</td>\n",
              "      <td>2016-02-08 12:15:39</td>\n",
              "      <td>39.10148</td>\n",
              "      <td>-84.52341</td>\n",
              "      <td>39.09841</td>\n",
              "      <td>-84.52241</td>\n",
              "      <td>0.219</td>\n",
              "      <td>At I-71/US-50/Exit 1 - Accident.</td>\n",
              "      <td>NaN</td>\n",
              "      <td>US-50 E</td>\n",
              "      <td>R</td>\n",
              "      <td>Cincinnati</td>\n",
              "      <td>Hamilton</td>\n",
              "      <td>OH</td>\n",
              "      <td>45202</td>\n",
              "      <td>US</td>\n",
              "      <td>US/Eastern</td>\n",
              "      <td>KLUK</td>\n",
              "      <td>2016-02-08 05:53:00</td>\n",
              "      <td>36.0</td>\n",
              "      <td>NaN</td>\n",
              "      <td>97.0</td>\n",
              "      <td>29.70</td>\n",
              "      <td>10.0</td>\n",
              "      <td>Calm</td>\n",
              "      <td>NaN</td>\n",
              "      <td>0.02</td>\n",
              "      <td>Overcast</td>\n",
              "      <td>False</td>\n",
              "      <td>False</td>\n",
              "      <td>False</td>\n",
              "      <td>False</td>\n",
              "      <td>True</td>\n",
              "      <td>False</td>\n",
              "      <td>False</td>\n",
              "      <td>False</td>\n",
              "      <td>False</td>\n",
              "      <td>False</td>\n",
              "      <td>False</td>\n",
              "      <td>False</td>\n",
              "      <td>False</td>\n",
              "      <td>Night</td>\n",
              "      <td>Night</td>\n",
              "      <td>Night</td>\n",
              "      <td>Day</td>\n",
              "    </tr>\n",
              "    <tr>\n",
              "      <th>4</th>\n",
              "      <td>A-2716604</td>\n",
              "      <td>2</td>\n",
              "      <td>2016-02-08 06:51:45</td>\n",
              "      <td>2016-02-08 12:51:45</td>\n",
              "      <td>41.06213</td>\n",
              "      <td>-81.53784</td>\n",
              "      <td>41.06217</td>\n",
              "      <td>-81.53547</td>\n",
              "      <td>0.123</td>\n",
              "      <td>At Dart Ave/Exit 21 - Accident.</td>\n",
              "      <td>NaN</td>\n",
              "      <td>I-77 N</td>\n",
              "      <td>R</td>\n",
              "      <td>Akron</td>\n",
              "      <td>Summit</td>\n",
              "      <td>OH</td>\n",
              "      <td>44311</td>\n",
              "      <td>US</td>\n",
              "      <td>US/Eastern</td>\n",
              "      <td>KAKR</td>\n",
              "      <td>2016-02-08 06:54:00</td>\n",
              "      <td>39.0</td>\n",
              "      <td>NaN</td>\n",
              "      <td>55.0</td>\n",
              "      <td>29.65</td>\n",
              "      <td>10.0</td>\n",
              "      <td>Calm</td>\n",
              "      <td>NaN</td>\n",
              "      <td>NaN</td>\n",
              "      <td>Overcast</td>\n",
              "      <td>False</td>\n",
              "      <td>False</td>\n",
              "      <td>False</td>\n",
              "      <td>False</td>\n",
              "      <td>False</td>\n",
              "      <td>False</td>\n",
              "      <td>False</td>\n",
              "      <td>False</td>\n",
              "      <td>False</td>\n",
              "      <td>False</td>\n",
              "      <td>False</td>\n",
              "      <td>False</td>\n",
              "      <td>False</td>\n",
              "      <td>Night</td>\n",
              "      <td>Night</td>\n",
              "      <td>Day</td>\n",
              "      <td>Day</td>\n",
              "    </tr>\n",
              "  </tbody>\n",
              "</table>\n",
              "</div>"
            ],
            "text/plain": [
              "          ID  Severity  ... Nautical_Twilight Astronomical_Twilight\n",
              "0  A-2716600         3  ...             Night                 Night\n",
              "1  A-2716601         2  ...             Night                 Night\n",
              "2  A-2716602         2  ...             Night                   Day\n",
              "3  A-2716603         2  ...             Night                   Day\n",
              "4  A-2716604         2  ...               Day                   Day\n",
              "\n",
              "[5 rows x 47 columns]"
            ]
          },
          "metadata": {},
          "execution_count": 63
        }
      ]
    },
    {
      "cell_type": "code",
      "metadata": {
        "colab": {
          "base_uri": "https://localhost:8080/"
        },
        "id": "yFqoXR6NuAHN",
        "outputId": "dd526975-5ff6-469f-bc4d-4d2fbf300b7e"
      },
      "source": [
        "print('The length of the data is ' + str(len(df)))"
      ],
      "execution_count": 66,
      "outputs": [
        {
          "output_type": "stream",
          "name": "stdout",
          "text": [
            "The length of the data is 1516064\n"
          ]
        }
      ]
    },
    {
      "cell_type": "markdown",
      "metadata": {
        "id": "5zHz8t5gBEzY"
      },
      "source": [
        "# Clustering"
      ]
    },
    {
      "cell_type": "code",
      "metadata": {
        "id": "ZKuglD5TBEze"
      },
      "source": [
        "from sklearn.cluster import DBSCAN\n",
        "from geopy.distance import great_circle\n",
        "from shapely.geometry import MultiPoint\n",
        "coords = df[['Start_Lat', 'Start_Lng']].values\n",
        "kms_per_radian = 6371.0088\n",
        "# half mile radius with minimum 10 accidents\n",
        "# .4 km = .25 miles\n",
        "epsilon = 0.4 / kms_per_radian\n",
        "db = DBSCAN(eps=epsilon, min_samples=10, algorithm='ball_tree', metric='haversine').fit(np.radians(coords))\n",
        "cluster_labels = db.labels_\n",
        "cluster_labels = cluster_labels.astype(float)\n",
        "cluster_labels[cluster_labels == -1] = np.nan\n",
        "num_clusters = len(set(cluster_labels))\n",
        "clusters = pd.Series([coords[cluster_labels == n] for n in range(num_clusters)])"
      ],
      "execution_count": 67,
      "outputs": []
    },
    {
      "cell_type": "code",
      "metadata": {
        "id": "UivlOaxITtmR"
      },
      "source": [
        "non_empty_clusters = pd.Series([cluster for cluster in clusters.values if len(cluster) != 0])"
      ],
      "execution_count": 68,
      "outputs": []
    },
    {
      "cell_type": "code",
      "metadata": {
        "id": "Dp2Be5cr3SFh"
      },
      "source": [
        "# https://stackoverflow.com/questions/64814999/getting-the-center-point-of-a-cluster-for-latitude-and-longitude-in-python\n",
        "#noise_pts = pd.Series([coords[cluster_labels == -1]])\n",
        "def get_centermost_point(cluster):\n",
        "    centroid = (MultiPoint(cluster).centroid.x, MultiPoint(cluster).centroid.y)\n",
        "    centermost_point = min(cluster, key=lambda point: great_circle(point, centroid).m)\n",
        "    return tuple(centermost_point)\n",
        "centermost_points = non_empty_clusters.map(get_centermost_point)\n"
      ],
      "execution_count": 69,
      "outputs": []
    },
    {
      "cell_type": "code",
      "metadata": {
        "id": "5MbVGp6UMxk_"
      },
      "source": [
        "# max_list = []\n",
        "# min_list = []\n",
        "# for cluster in clusters:\n",
        "#   if len(cluster.flatten()) != 0:\n",
        "#     max_list.append(np.array(cluster.flatten()).max())\n",
        "#     min_list.append(np.array(cluster.flatten()).min())\n",
        "\n",
        "# print(np.array(max_list).max())\n",
        "# print(np.array(min_list).min())"
      ],
      "execution_count": null,
      "outputs": []
    },
    {
      "cell_type": "code",
      "metadata": {
        "id": "XyFW-lEnS1iS"
      },
      "source": [
        "# len_list = []\n",
        "# for cluster in clusters:\n",
        "#     len_list.append(len(cluster))\n",
        "# print(np.array(len_list).max())"
      ],
      "execution_count": null,
      "outputs": []
    },
    {
      "cell_type": "code",
      "metadata": {
        "id": "-6BLIPZwRsuS"
      },
      "source": [
        "# df[['Start_Lng']].max()"
      ],
      "execution_count": 72,
      "outputs": []
    },
    {
      "cell_type": "code",
      "metadata": {
        "id": "-DVfb5iHT_xN",
        "colab": {
          "base_uri": "https://localhost:8080/"
        },
        "outputId": "a7f4f9cf-ea02-49b9-c64a-77d8dff89815"
      },
      "source": [
        "print(\"There are {} clusters.\".format(len(non_empty_clusters)))"
      ],
      "execution_count": 73,
      "outputs": [
        {
          "output_type": "stream",
          "name": "stdout",
          "text": [
            "There are 17134 clusters.\n"
          ]
        }
      ]
    },
    {
      "cell_type": "code",
      "metadata": {
        "id": "yDM70DMTJXDp"
      },
      "source": [
        "# get the closest point to the centroid of each clsuter\n",
        "lats, lons = zip(*centermost_points)\n",
        "rep_points = pd.DataFrame({'lon':lons, 'lat':lats})\n",
        "rs = rep_points.apply(lambda row: df[(df['Start_Lat']==row['lat']) & (df['Start_Lng']==row['lon'])].iloc[0], axis=1)\n"
      ],
      "execution_count": 74,
      "outputs": []
    },
    {
      "cell_type": "code",
      "metadata": {
        "id": "hjESeXz9Wn7i"
      },
      "source": [
        "rs"
      ],
      "execution_count": null,
      "outputs": []
    },
    {
      "cell_type": "code",
      "metadata": {
        "id": "MG4G7iXLJPj7",
        "colab": {
          "base_uri": "https://localhost:8080/"
        },
        "outputId": "2af7f66d-766e-4314-e987-c3e4d9f0f3bb"
      },
      "source": [
        "# downside of DBSCAN is that it assumes that all clusters will have similar density which is not necessarily the case here with the accident data as it will vary based on the population density of the area\n",
        "\n",
        "print(\"Cluster to dataset length ratio: {}\".format(len(non_empty_clusters)/len(df)))\n"
      ],
      "execution_count": 95,
      "outputs": [
        {
          "output_type": "stream",
          "name": "stdout",
          "text": [
            "Cluster to dataset length ratio: 0.011301633704118031\n"
          ]
        }
      ]
    },
    {
      "cell_type": "code",
      "metadata": {
        "id": "UhaWkY5KO65s"
      },
      "source": [
        "# see this article for getting center point of clusters and getting original DF rows to get the severity https://geoffboeing.com/2014/08/clustering-to-reduce-spatial-data-set-size/\n",
        "# DBSCAN on 1.5M row dataset https://github.com/gboeing/data-visualization/blob/main/location-history/google-location-history-cluster.ipynb\n",
        "\n",
        "# PARAMS TO TWEAK:\n",
        "# The radius defines the area of interest (shape, size) around each point and the\n",
        "# minimum density threshold sets the minimum number of points which must fall within\n",
        "# this area for it to be considered dense. They can be thought of as the maximum spread\n",
        "# and minimum density associated with each point. \n",
        "# points not included in a cluster are labeled as cluster -1"
      ],
      "execution_count": null,
      "outputs": []
    },
    {
      "cell_type": "code",
      "metadata": {
        "id": "InKMWo6eJXNY"
      },
      "source": [
        "rs"
      ],
      "execution_count": null,
      "outputs": []
    },
    {
      "cell_type": "code",
      "metadata": {
        "id": "WXEN8g-Lpp3P"
      },
      "source": [
        "df['label'] = cluster_labels\n",
        "avg_severity_by_cluster = df.groupby('label')['Severity'].mean().values"
      ],
      "execution_count": null,
      "outputs": []
    },
    {
      "cell_type": "code",
      "metadata": {
        "id": "7JAXI7wEqBF6",
        "colab": {
          "base_uri": "https://localhost:8080/"
        },
        "outputId": "2f0cf721-a6f5-455b-b618-c6250b4cb5c7"
      },
      "source": [
        "len(rs)"
      ],
      "execution_count": 80,
      "outputs": [
        {
          "output_type": "execute_result",
          "data": {
            "text/plain": [
              "17134"
            ]
          },
          "metadata": {},
          "execution_count": 80
        }
      ]
    },
    {
      "cell_type": "code",
      "metadata": {
        "id": "mFrIbt0fqS5Y"
      },
      "source": [
        "rs['avg_severity'] = avg_severity_by_cluster"
      ],
      "execution_count": 81,
      "outputs": []
    },
    {
      "cell_type": "code",
      "metadata": {
        "id": "gHfLzU21ZLWz",
        "colab": {
          "base_uri": "https://localhost:8080/",
          "height": 481
        },
        "outputId": "5646465f-0d89-496b-b254-0a525ecc278d"
      },
      "source": [
        "# compute the average severity rating for each cluster and plot the color on the map using this\n",
        "fig = plt.figure(figsize=(12,9))\n",
        "m = Basemap(llcrnrlon=-119,llcrnrlat=22,urcrnrlon=-64,urcrnrlat=49,\n",
        "        projection='lcc',lat_1=33,lat_2=45,lon_0=-95)\n",
        "m.drawcoastlines()\n",
        "m.scatter(rs['Start_Lng'].values, rs['Start_Lat'].values, c = rs['avg_severity'], s = 50, latlon=True, alpha = 0.05)"
      ],
      "execution_count": 82,
      "outputs": [
        {
          "output_type": "execute_result",
          "data": {
            "text/plain": [
              "<matplotlib.collections.PathCollection at 0x7f02d4c14890>"
            ]
          },
          "metadata": {},
          "execution_count": 82
        },
        {
          "output_type": "display_data",
          "data": {
            "image/png": "[encoded data removed]",
            "text/plain": [
              "<Figure size 864x648 with 1 Axes>"
            ]
          },
          "metadata": {}
        }
      ]
    },
    {
      "cell_type": "code",
      "metadata": {
        "id": "lbnXfT0FqYy2",
        "colab": {
          "base_uri": "https://localhost:8080/",
          "height": 1000
        },
        "outputId": "56d4d279-b651-44f5-e740-7e0c45351e2e"
      },
      "source": [
        "rs"
      ],
      "execution_count": 83,
      "outputs": [
        {
          "output_type": "execute_result",
          "data": {
            "text/html": [
              "<div>\n",
              "<style scoped>\n",
              "    .dataframe tbody tr th:only-of-type {\n",
              "        vertical-align: middle;\n",
              "    }\n",
              "\n",
              "    .dataframe tbody tr th {\n",
              "        vertical-align: top;\n",
              "    }\n",
              "\n",
              "    .dataframe thead th {\n",
              "        text-align: right;\n",
              "    }\n",
              "</style>\n",
              "<table border=\"1\" class=\"dataframe\">\n",
              "  <thead>\n",
              "    <tr style=\"text-align: right;\">\n",
              "      <th></th>\n",
              "      <th>ID</th>\n",
              "      <th>Severity</th>\n",
              "      <th>Start_Time</th>\n",
              "      <th>End_Time</th>\n",
              "      <th>Start_Lat</th>\n",
              "      <th>Start_Lng</th>\n",
              "      <th>End_Lat</th>\n",
              "      <th>End_Lng</th>\n",
              "      <th>Distance(mi)</th>\n",
              "      <th>Description</th>\n",
              "      <th>Number</th>\n",
              "      <th>Street</th>\n",
              "      <th>Side</th>\n",
              "      <th>City</th>\n",
              "      <th>County</th>\n",
              "      <th>State</th>\n",
              "      <th>Zipcode</th>\n",
              "      <th>Country</th>\n",
              "      <th>Timezone</th>\n",
              "      <th>Airport_Code</th>\n",
              "      <th>Weather_Timestamp</th>\n",
              "      <th>Temperature(F)</th>\n",
              "      <th>Wind_Chill(F)</th>\n",
              "      <th>Humidity(%)</th>\n",
              "      <th>Pressure(in)</th>\n",
              "      <th>Visibility(mi)</th>\n",
              "      <th>Wind_Direction</th>\n",
              "      <th>Wind_Speed(mph)</th>\n",
              "      <th>Precipitation(in)</th>\n",
              "      <th>Weather_Condition</th>\n",
              "      <th>Amenity</th>\n",
              "      <th>Bump</th>\n",
              "      <th>Crossing</th>\n",
              "      <th>Give_Way</th>\n",
              "      <th>Junction</th>\n",
              "      <th>No_Exit</th>\n",
              "      <th>Railway</th>\n",
              "      <th>Roundabout</th>\n",
              "      <th>Station</th>\n",
              "      <th>Stop</th>\n",
              "      <th>Traffic_Calming</th>\n",
              "      <th>Traffic_Signal</th>\n",
              "      <th>Turning_Loop</th>\n",
              "      <th>Sunrise_Sunset</th>\n",
              "      <th>Civil_Twilight</th>\n",
              "      <th>Nautical_Twilight</th>\n",
              "      <th>Astronomical_Twilight</th>\n",
              "      <th>avg_severity</th>\n",
              "    </tr>\n",
              "  </thead>\n",
              "  <tbody>\n",
              "    <tr>\n",
              "      <th>0</th>\n",
              "      <td>A-2826217</td>\n",
              "      <td>2</td>\n",
              "      <td>2016-04-08 09:47:13</td>\n",
              "      <td>2016-04-08 15:47:13</td>\n",
              "      <td>40.109090</td>\n",
              "      <td>-83.087220</td>\n",
              "      <td>40.109300</td>\n",
              "      <td>-83.095620</td>\n",
              "      <td>0.444</td>\n",
              "      <td>At Sawmill Rd/Exit 20 - Accident.</td>\n",
              "      <td>NaN</td>\n",
              "      <td>Outerbelt W</td>\n",
              "      <td>R</td>\n",
              "      <td>Columbus</td>\n",
              "      <td>Franklin</td>\n",
              "      <td>OH</td>\n",
              "      <td>43235</td>\n",
              "      <td>US</td>\n",
              "      <td>US/Eastern</td>\n",
              "      <td>KOSU</td>\n",
              "      <td>2016-04-08 09:53:00</td>\n",
              "      <td>37.0</td>\n",
              "      <td>28.9</td>\n",
              "      <td>65.0</td>\n",
              "      <td>29.84</td>\n",
              "      <td>10.0</td>\n",
              "      <td>WNW</td>\n",
              "      <td>12.7</td>\n",
              "      <td>NaN</td>\n",
              "      <td>Clear</td>\n",
              "      <td>False</td>\n",
              "      <td>False</td>\n",
              "      <td>False</td>\n",
              "      <td>False</td>\n",
              "      <td>False</td>\n",
              "      <td>False</td>\n",
              "      <td>False</td>\n",
              "      <td>False</td>\n",
              "      <td>False</td>\n",
              "      <td>False</td>\n",
              "      <td>False</td>\n",
              "      <td>False</td>\n",
              "      <td>False</td>\n",
              "      <td>Day</td>\n",
              "      <td>Day</td>\n",
              "      <td>Day</td>\n",
              "      <td>Day</td>\n",
              "      <td>2.218182</td>\n",
              "    </tr>\n",
              "    <tr>\n",
              "      <th>1</th>\n",
              "      <td>A-3477732</td>\n",
              "      <td>2</td>\n",
              "      <td>2020-05-07 14:40:32</td>\n",
              "      <td>2020-05-07 15:25:32</td>\n",
              "      <td>39.099460</td>\n",
              "      <td>-84.515870</td>\n",
              "      <td>39.099220</td>\n",
              "      <td>-84.517500</td>\n",
              "      <td>0.089</td>\n",
              "      <td>At US-27/US-52/US-127/Central Ave - Accident.</td>\n",
              "      <td>400.0</td>\n",
              "      <td>Elm St</td>\n",
              "      <td>R</td>\n",
              "      <td>Cincinnati</td>\n",
              "      <td>Hamilton</td>\n",
              "      <td>OH</td>\n",
              "      <td>45202</td>\n",
              "      <td>US</td>\n",
              "      <td>US/Eastern</td>\n",
              "      <td>KLUK</td>\n",
              "      <td>2020-05-07 14:53:00</td>\n",
              "      <td>68.0</td>\n",
              "      <td>68.0</td>\n",
              "      <td>35.0</td>\n",
              "      <td>29.46</td>\n",
              "      <td>10.0</td>\n",
              "      <td>WNW</td>\n",
              "      <td>15.0</td>\n",
              "      <td>0.0</td>\n",
              "      <td>Mostly Cloudy</td>\n",
              "      <td>False</td>\n",
              "      <td>False</td>\n",
              "      <td>True</td>\n",
              "      <td>False</td>\n",
              "      <td>False</td>\n",
              "      <td>False</td>\n",
              "      <td>False</td>\n",
              "      <td>False</td>\n",
              "      <td>False</td>\n",
              "      <td>False</td>\n",
              "      <td>False</td>\n",
              "      <td>True</td>\n",
              "      <td>False</td>\n",
              "      <td>Day</td>\n",
              "      <td>Day</td>\n",
              "      <td>Day</td>\n",
              "      <td>Day</td>\n",
              "      <td>2.376940</td>\n",
              "    </tr>\n",
              "    <tr>\n",
              "      <th>2</th>\n",
              "      <td>A-2716824</td>\n",
              "      <td>2</td>\n",
              "      <td>2016-02-16 09:54:12</td>\n",
              "      <td>2016-02-16 15:54:12</td>\n",
              "      <td>41.062570</td>\n",
              "      <td>-81.522280</td>\n",
              "      <td>41.062680</td>\n",
              "      <td>-81.519880</td>\n",
              "      <td>0.125</td>\n",
              "      <td>At Wolf Ledges/Exit 22 - Accident.</td>\n",
              "      <td>NaN</td>\n",
              "      <td>I-77 N</td>\n",
              "      <td>R</td>\n",
              "      <td>Akron</td>\n",
              "      <td>Summit</td>\n",
              "      <td>OH</td>\n",
              "      <td>44311</td>\n",
              "      <td>US</td>\n",
              "      <td>US/Eastern</td>\n",
              "      <td>KAKR</td>\n",
              "      <td>2016-02-16 09:54:00</td>\n",
              "      <td>34.0</td>\n",
              "      <td>28.8</td>\n",
              "      <td>89.0</td>\n",
              "      <td>29.72</td>\n",
              "      <td>1.2</td>\n",
              "      <td>NNW</td>\n",
              "      <td>5.8</td>\n",
              "      <td>0.0</td>\n",
              "      <td>Light Snow</td>\n",
              "      <td>False</td>\n",
              "      <td>False</td>\n",
              "      <td>False</td>\n",
              "      <td>False</td>\n",
              "      <td>False</td>\n",
              "      <td>False</td>\n",
              "      <td>False</td>\n",
              "      <td>False</td>\n",
              "      <td>False</td>\n",
              "      <td>False</td>\n",
              "      <td>False</td>\n",
              "      <td>False</td>\n",
              "      <td>False</td>\n",
              "      <td>Day</td>\n",
              "      <td>Day</td>\n",
              "      <td>Day</td>\n",
              "      <td>Day</td>\n",
              "      <td>2.316279</td>\n",
              "    </tr>\n",
              "    <tr>\n",
              "      <th>3</th>\n",
              "      <td>A-2794698</td>\n",
              "      <td>2</td>\n",
              "      <td>2016-08-18 10:55:26</td>\n",
              "      <td>2016-08-18 16:55:26</td>\n",
              "      <td>39.181485</td>\n",
              "      <td>-84.484882</td>\n",
              "      <td>39.186929</td>\n",
              "      <td>-84.482240</td>\n",
              "      <td>0.402</td>\n",
              "      <td>Between OH-562/Exit 7 and OH-4/Paddock Rd/Exit...</td>\n",
              "      <td>NaN</td>\n",
              "      <td>I-75 N</td>\n",
              "      <td>R</td>\n",
              "      <td>Cincinnati</td>\n",
              "      <td>Hamilton</td>\n",
              "      <td>OH</td>\n",
              "      <td>45237</td>\n",
              "      <td>US</td>\n",
              "      <td>US/Eastern</td>\n",
              "      <td>KLUK</td>\n",
              "      <td>2016-08-18 10:53:00</td>\n",
              "      <td>77.0</td>\n",
              "      <td>NaN</td>\n",
              "      <td>82.0</td>\n",
              "      <td>30.13</td>\n",
              "      <td>7.0</td>\n",
              "      <td>Calm</td>\n",
              "      <td>NaN</td>\n",
              "      <td>NaN</td>\n",
              "      <td>Scattered Clouds</td>\n",
              "      <td>False</td>\n",
              "      <td>False</td>\n",
              "      <td>False</td>\n",
              "      <td>False</td>\n",
              "      <td>False</td>\n",
              "      <td>False</td>\n",
              "      <td>False</td>\n",
              "      <td>False</td>\n",
              "      <td>False</td>\n",
              "      <td>False</td>\n",
              "      <td>False</td>\n",
              "      <td>False</td>\n",
              "      <td>False</td>\n",
              "      <td>Day</td>\n",
              "      <td>Day</td>\n",
              "      <td>Day</td>\n",
              "      <td>Day</td>\n",
              "      <td>2.290000</td>\n",
              "    </tr>\n",
              "    <tr>\n",
              "      <th>4</th>\n",
              "      <td>A-3457361</td>\n",
              "      <td>2</td>\n",
              "      <td>2020-06-01 11:50:43</td>\n",
              "      <td>2020-06-01 12:35:43</td>\n",
              "      <td>39.760280</td>\n",
              "      <td>-84.196450</td>\n",
              "      <td>39.760280</td>\n",
              "      <td>-84.196450</td>\n",
              "      <td>0.000</td>\n",
              "      <td>At W 3rd St - Accident.</td>\n",
              "      <td>298.0</td>\n",
              "      <td>W 2nd St</td>\n",
              "      <td>L</td>\n",
              "      <td>Dayton</td>\n",
              "      <td>Montgomery</td>\n",
              "      <td>OH</td>\n",
              "      <td>45402-1412</td>\n",
              "      <td>US</td>\n",
              "      <td>US/Eastern</td>\n",
              "      <td>KFFO</td>\n",
              "      <td>2020-06-01 11:56:00</td>\n",
              "      <td>65.0</td>\n",
              "      <td>65.0</td>\n",
              "      <td>46.0</td>\n",
              "      <td>29.43</td>\n",
              "      <td>10.0</td>\n",
              "      <td>SW</td>\n",
              "      <td>5.0</td>\n",
              "      <td>0.0</td>\n",
              "      <td>Fair</td>\n",
              "      <td>False</td>\n",
              "      <td>False</td>\n",
              "      <td>True</td>\n",
              "      <td>False</td>\n",
              "      <td>False</td>\n",
              "      <td>False</td>\n",
              "      <td>False</td>\n",
              "      <td>False</td>\n",
              "      <td>False</td>\n",
              "      <td>False</td>\n",
              "      <td>False</td>\n",
              "      <td>True</td>\n",
              "      <td>False</td>\n",
              "      <td>Day</td>\n",
              "      <td>Day</td>\n",
              "      <td>Day</td>\n",
              "      <td>Day</td>\n",
              "      <td>2.175243</td>\n",
              "    </tr>\n",
              "    <tr>\n",
              "      <th>...</th>\n",
              "      <td>...</td>\n",
              "      <td>...</td>\n",
              "      <td>...</td>\n",
              "      <td>...</td>\n",
              "      <td>...</td>\n",
              "      <td>...</td>\n",
              "      <td>...</td>\n",
              "      <td>...</td>\n",
              "      <td>...</td>\n",
              "      <td>...</td>\n",
              "      <td>...</td>\n",
              "      <td>...</td>\n",
              "      <td>...</td>\n",
              "      <td>...</td>\n",
              "      <td>...</td>\n",
              "      <td>...</td>\n",
              "      <td>...</td>\n",
              "      <td>...</td>\n",
              "      <td>...</td>\n",
              "      <td>...</td>\n",
              "      <td>...</td>\n",
              "      <td>...</td>\n",
              "      <td>...</td>\n",
              "      <td>...</td>\n",
              "      <td>...</td>\n",
              "      <td>...</td>\n",
              "      <td>...</td>\n",
              "      <td>...</td>\n",
              "      <td>...</td>\n",
              "      <td>...</td>\n",
              "      <td>...</td>\n",
              "      <td>...</td>\n",
              "      <td>...</td>\n",
              "      <td>...</td>\n",
              "      <td>...</td>\n",
              "      <td>...</td>\n",
              "      <td>...</td>\n",
              "      <td>...</td>\n",
              "      <td>...</td>\n",
              "      <td>...</td>\n",
              "      <td>...</td>\n",
              "      <td>...</td>\n",
              "      <td>...</td>\n",
              "      <td>...</td>\n",
              "      <td>...</td>\n",
              "      <td>...</td>\n",
              "      <td>...</td>\n",
              "      <td>...</td>\n",
              "    </tr>\n",
              "    <tr>\n",
              "      <th>17129</th>\n",
              "      <td>A-4234578</td>\n",
              "      <td>2</td>\n",
              "      <td>2019-08-13 14:10:19</td>\n",
              "      <td>2019-08-13 18:10:19</td>\n",
              "      <td>45.753464</td>\n",
              "      <td>-120.153616</td>\n",
              "      <td>45.762447</td>\n",
              "      <td>-120.129502</td>\n",
              "      <td>1.318</td>\n",
              "      <td>At OR-74/Exit 147 - Accident.</td>\n",
              "      <td>NaN</td>\n",
              "      <td>I-84 E</td>\n",
              "      <td>R</td>\n",
              "      <td>Arlington</td>\n",
              "      <td>Gilliam</td>\n",
              "      <td>OR</td>\n",
              "      <td>97812</td>\n",
              "      <td>US</td>\n",
              "      <td>US/Pacific</td>\n",
              "      <td>KHRI</td>\n",
              "      <td>2019-08-13 13:53:00</td>\n",
              "      <td>89.0</td>\n",
              "      <td>89.0</td>\n",
              "      <td>22.0</td>\n",
              "      <td>29.36</td>\n",
              "      <td>10.0</td>\n",
              "      <td>NE</td>\n",
              "      <td>8.0</td>\n",
              "      <td>0.0</td>\n",
              "      <td>Fair</td>\n",
              "      <td>False</td>\n",
              "      <td>False</td>\n",
              "      <td>False</td>\n",
              "      <td>False</td>\n",
              "      <td>False</td>\n",
              "      <td>False</td>\n",
              "      <td>False</td>\n",
              "      <td>False</td>\n",
              "      <td>False</td>\n",
              "      <td>False</td>\n",
              "      <td>False</td>\n",
              "      <td>False</td>\n",
              "      <td>False</td>\n",
              "      <td>Day</td>\n",
              "      <td>Day</td>\n",
              "      <td>Day</td>\n",
              "      <td>Day</td>\n",
              "      <td>2.000000</td>\n",
              "    </tr>\n",
              "    <tr>\n",
              "      <th>17130</th>\n",
              "      <td>A-4131682</td>\n",
              "      <td>2</td>\n",
              "      <td>2017-10-10 17:47:41</td>\n",
              "      <td>2017-10-10 23:47:41</td>\n",
              "      <td>32.997615</td>\n",
              "      <td>-80.670091</td>\n",
              "      <td>33.016968</td>\n",
              "      <td>-80.665862</td>\n",
              "      <td>1.359</td>\n",
              "      <td>Between SC-64/Exit 57 and SC-61/Exit 68 - Acci...</td>\n",
              "      <td>NaN</td>\n",
              "      <td>I-95 N</td>\n",
              "      <td>R</td>\n",
              "      <td>Walterboro</td>\n",
              "      <td>Colleton</td>\n",
              "      <td>SC</td>\n",
              "      <td>29488</td>\n",
              "      <td>US</td>\n",
              "      <td>US/Eastern</td>\n",
              "      <td>KRBW</td>\n",
              "      <td>2017-10-10 17:55:00</td>\n",
              "      <td>78.8</td>\n",
              "      <td>NaN</td>\n",
              "      <td>94.0</td>\n",
              "      <td>30.07</td>\n",
              "      <td>10.0</td>\n",
              "      <td>ESE</td>\n",
              "      <td>4.6</td>\n",
              "      <td>NaN</td>\n",
              "      <td>Scattered Clouds</td>\n",
              "      <td>False</td>\n",
              "      <td>False</td>\n",
              "      <td>False</td>\n",
              "      <td>False</td>\n",
              "      <td>False</td>\n",
              "      <td>False</td>\n",
              "      <td>False</td>\n",
              "      <td>False</td>\n",
              "      <td>False</td>\n",
              "      <td>False</td>\n",
              "      <td>False</td>\n",
              "      <td>False</td>\n",
              "      <td>False</td>\n",
              "      <td>Day</td>\n",
              "      <td>Day</td>\n",
              "      <td>Day</td>\n",
              "      <td>Day</td>\n",
              "      <td>2.200000</td>\n",
              "    </tr>\n",
              "    <tr>\n",
              "      <th>17131</th>\n",
              "      <td>A-4235370</td>\n",
              "      <td>4</td>\n",
              "      <td>2019-08-15 15:54:19</td>\n",
              "      <td>2019-08-15 16:22:32</td>\n",
              "      <td>39.430550</td>\n",
              "      <td>-87.330237</td>\n",
              "      <td>39.445700</td>\n",
              "      <td>-87.239590</td>\n",
              "      <td>4.949</td>\n",
              "      <td>Closed between US-150/US-41/Exit 7 and IN-59/E...</td>\n",
              "      <td>NaN</td>\n",
              "      <td>I-70 E</td>\n",
              "      <td>R</td>\n",
              "      <td>Terre Haute</td>\n",
              "      <td>Vigo</td>\n",
              "      <td>IN</td>\n",
              "      <td>47802</td>\n",
              "      <td>US</td>\n",
              "      <td>US/Eastern</td>\n",
              "      <td>KHUF</td>\n",
              "      <td>2019-08-15 15:53:00</td>\n",
              "      <td>82.0</td>\n",
              "      <td>82.0</td>\n",
              "      <td>52.0</td>\n",
              "      <td>29.37</td>\n",
              "      <td>10.0</td>\n",
              "      <td>W</td>\n",
              "      <td>9.0</td>\n",
              "      <td>0.0</td>\n",
              "      <td>Partly Cloudy</td>\n",
              "      <td>False</td>\n",
              "      <td>False</td>\n",
              "      <td>False</td>\n",
              "      <td>False</td>\n",
              "      <td>False</td>\n",
              "      <td>False</td>\n",
              "      <td>False</td>\n",
              "      <td>False</td>\n",
              "      <td>False</td>\n",
              "      <td>False</td>\n",
              "      <td>False</td>\n",
              "      <td>False</td>\n",
              "      <td>False</td>\n",
              "      <td>Day</td>\n",
              "      <td>Day</td>\n",
              "      <td>Day</td>\n",
              "      <td>Day</td>\n",
              "      <td>2.923077</td>\n",
              "    </tr>\n",
              "    <tr>\n",
              "      <th>17132</th>\n",
              "      <td>A-3451237</td>\n",
              "      <td>2</td>\n",
              "      <td>2020-05-28 06:56:37</td>\n",
              "      <td>2020-05-28 09:16:35</td>\n",
              "      <td>44.024730</td>\n",
              "      <td>-116.944670</td>\n",
              "      <td>44.024730</td>\n",
              "      <td>-116.944670</td>\n",
              "      <td>0.000</td>\n",
              "      <td>At I-84/US-30/Old Oregon Trail Hwy - Accident.</td>\n",
              "      <td>1305.0</td>\n",
              "      <td>E Idaho Ave</td>\n",
              "      <td>R</td>\n",
              "      <td>Ontario</td>\n",
              "      <td>Malheur</td>\n",
              "      <td>OR</td>\n",
              "      <td>97914-3022</td>\n",
              "      <td>US</td>\n",
              "      <td>US/Mountain</td>\n",
              "      <td>KONO</td>\n",
              "      <td>2020-05-28 06:53:00</td>\n",
              "      <td>55.0</td>\n",
              "      <td>NaN</td>\n",
              "      <td>62.0</td>\n",
              "      <td>27.78</td>\n",
              "      <td>10.0</td>\n",
              "      <td>NaN</td>\n",
              "      <td>NaN</td>\n",
              "      <td>0.0</td>\n",
              "      <td>Fair</td>\n",
              "      <td>False</td>\n",
              "      <td>False</td>\n",
              "      <td>False</td>\n",
              "      <td>False</td>\n",
              "      <td>False</td>\n",
              "      <td>False</td>\n",
              "      <td>False</td>\n",
              "      <td>False</td>\n",
              "      <td>False</td>\n",
              "      <td>False</td>\n",
              "      <td>False</td>\n",
              "      <td>False</td>\n",
              "      <td>False</td>\n",
              "      <td>Day</td>\n",
              "      <td>Day</td>\n",
              "      <td>Day</td>\n",
              "      <td>Day</td>\n",
              "      <td>2.000000</td>\n",
              "    </tr>\n",
              "    <tr>\n",
              "      <th>17133</th>\n",
              "      <td>A-4238991</td>\n",
              "      <td>3</td>\n",
              "      <td>2019-08-23 15:46:16</td>\n",
              "      <td>2019-08-23 16:15:32</td>\n",
              "      <td>42.225112</td>\n",
              "      <td>-73.856931</td>\n",
              "      <td>42.226380</td>\n",
              "      <td>-73.860460</td>\n",
              "      <td>0.201</td>\n",
              "      <td>At RT-385/Spring St - Accident. Single alterna...</td>\n",
              "      <td>NaN</td>\n",
              "      <td>Rip Van Winkle Brg</td>\n",
              "      <td>R</td>\n",
              "      <td>Catskill</td>\n",
              "      <td>Greene</td>\n",
              "      <td>NY</td>\n",
              "      <td>12414</td>\n",
              "      <td>US</td>\n",
              "      <td>US/Eastern</td>\n",
              "      <td>KPSF</td>\n",
              "      <td>2019-08-23 15:54:00</td>\n",
              "      <td>71.0</td>\n",
              "      <td>71.0</td>\n",
              "      <td>47.0</td>\n",
              "      <td>28.74</td>\n",
              "      <td>10.0</td>\n",
              "      <td>N</td>\n",
              "      <td>5.0</td>\n",
              "      <td>0.0</td>\n",
              "      <td>Fair</td>\n",
              "      <td>False</td>\n",
              "      <td>False</td>\n",
              "      <td>False</td>\n",
              "      <td>False</td>\n",
              "      <td>False</td>\n",
              "      <td>False</td>\n",
              "      <td>False</td>\n",
              "      <td>False</td>\n",
              "      <td>False</td>\n",
              "      <td>False</td>\n",
              "      <td>False</td>\n",
              "      <td>False</td>\n",
              "      <td>False</td>\n",
              "      <td>Day</td>\n",
              "      <td>Day</td>\n",
              "      <td>Day</td>\n",
              "      <td>Day</td>\n",
              "      <td>2.600000</td>\n",
              "    </tr>\n",
              "  </tbody>\n",
              "</table>\n",
              "<p>17134 rows × 48 columns</p>\n",
              "</div>"
            ],
            "text/plain": [
              "              ID  Severity  ... Astronomical_Twilight avg_severity\n",
              "0      A-2826217         2  ...                   Day     2.218182\n",
              "1      A-3477732         2  ...                   Day     2.376940\n",
              "2      A-2716824         2  ...                   Day     2.316279\n",
              "3      A-2794698         2  ...                   Day     2.290000\n",
              "4      A-3457361         2  ...                   Day     2.175243\n",
              "...          ...       ...  ...                   ...          ...\n",
              "17129  A-4234578         2  ...                   Day     2.000000\n",
              "17130  A-4131682         2  ...                   Day     2.200000\n",
              "17131  A-4235370         4  ...                   Day     2.923077\n",
              "17132  A-3451237         2  ...                   Day     2.000000\n",
              "17133  A-4238991         3  ...                   Day     2.600000\n",
              "\n",
              "[17134 rows x 48 columns]"
            ]
          },
          "metadata": {},
          "execution_count": 83
        }
      ]
    },
    {
      "cell_type": "code",
      "metadata": {
        "id": "qtIFpuEqn8nC"
      },
      "source": [
        "import json\n",
        "\n",
        "cluster_data = []\n",
        "for idx, row in rs.iterrows():\n",
        "  cluster_dict = {'cluster_id': idx, 'centroid_latitude': row['Start_Lat'], 'centroid_longitude': row['Start_Lng'], 'avg_severity': row['avg_severity']}\n",
        "  cluster_data.append(cluster_dict)"
      ],
      "execution_count": 84,
      "outputs": []
    },
    {
      "cell_type": "code",
      "metadata": {
        "id": "imsTXpirxDFe"
      },
      "source": [
        "with open('accident_hotspots.json', 'w') as file:\n",
        "     file.write(json.dumps(cluster_data))"
      ],
      "execution_count": 85,
      "outputs": []
    },
    {
      "cell_type": "code",
      "metadata": {
        "id": "2Laj7wmnxEfv",
        "colab": {
          "base_uri": "https://localhost:8080/"
        },
        "outputId": "50d615d1-6264-4b7d-b7b1-5ca713b7e583"
      },
      "source": [
        "len(rs)"
      ],
      "execution_count": 86,
      "outputs": [
        {
          "output_type": "execute_result",
          "data": {
            "text/plain": [
              "17134"
            ]
          },
          "metadata": {},
          "execution_count": 86
        }
      ]
    },
    {
      "cell_type": "code",
      "metadata": {
        "id": "ICCIRSB8JsSH",
        "colab": {
          "base_uri": "https://localhost:8080/"
        },
        "outputId": "a8486edd-8302-431a-9d72-8d5c71fcbff3"
      },
      "source": [
        "len(non_empty_clusters)"
      ],
      "execution_count": 87,
      "outputs": [
        {
          "output_type": "execute_result",
          "data": {
            "text/plain": [
              "17134"
            ]
          },
          "metadata": {},
          "execution_count": 87
        }
      ]
    },
    {
      "cell_type": "code",
      "metadata": {
        "id": "jwDndd3JJ5cH",
        "colab": {
          "base_uri": "https://localhost:8080/"
        },
        "outputId": "2e9b4b6a-ce9a-4ebd-dcab-5446c8b4bc89"
      },
      "source": [
        "len(cluster_labels)"
      ],
      "execution_count": 88,
      "outputs": [
        {
          "output_type": "execute_result",
          "data": {
            "text/plain": [
              "1516064"
            ]
          },
          "metadata": {},
          "execution_count": 88
        }
      ]
    },
    {
      "cell_type": "code",
      "metadata": {
        "id": "wc5kCPO3KLoW",
        "colab": {
          "base_uri": "https://localhost:8080/"
        },
        "outputId": "a525a0f5-96d4-447d-a075-49017007373e"
      },
      "source": [
        "len(df)"
      ],
      "execution_count": 89,
      "outputs": [
        {
          "output_type": "execute_result",
          "data": {
            "text/plain": [
              "1516064"
            ]
          },
          "metadata": {},
          "execution_count": 89
        }
      ]
    },
    {
      "cell_type": "code",
      "metadata": {
        "id": "iZxhTWazLkIu"
      },
      "source": [
        "out_df = df[df['label'] != -1]\n",
        "out_df = df[~df['label'].isna()]\n",
        "lat = out_df['Start_Lat'].values\n",
        "long = out_df['Start_Lng'].values\n",
        "cluster = out_df['label'].values\n",
        "\n",
        "out_list = []\n",
        "for point in zip(lat,long,cluster):\n",
        "  temp_dict = {'latitude':point[0], 'longitude':point[1], 'cluster_assignment': point[2]}\n",
        "  out_list.append(temp_dict)\n",
        "\n",
        "\n"
      ],
      "execution_count": 90,
      "outputs": []
    },
    {
      "cell_type": "code",
      "metadata": {
        "colab": {
          "base_uri": "https://localhost:8080/"
        },
        "id": "Q-L7ePkhsBaZ",
        "outputId": "fdac9912-c508-43b8-ba65-d50f81475b4c"
      },
      "source": [
        "len(df)"
      ],
      "execution_count": 91,
      "outputs": [
        {
          "output_type": "execute_result",
          "data": {
            "text/plain": [
              "1516064"
            ]
          },
          "metadata": {},
          "execution_count": 91
        }
      ]
    },
    {
      "cell_type": "code",
      "metadata": {
        "colab": {
          "base_uri": "https://localhost:8080/"
        },
        "id": "8v89m_pApwHQ",
        "outputId": "bce7334b-b8c1-47d8-fc55-729d091b2cbe"
      },
      "source": [
        "out_list[0]"
      ],
      "execution_count": 92,
      "outputs": [
        {
          "output_type": "execute_result",
          "data": {
            "text/plain": [
              "{'cluster_assignment': 0.0,\n",
              " 'latitude': 40.108909999999995,\n",
              " 'longitude': -83.09286}"
            ]
          },
          "metadata": {},
          "execution_count": 92
        }
      ]
    },
    {
      "cell_type": "code",
      "metadata": {
        "colab": {
          "base_uri": "https://localhost:8080/"
        },
        "id": "5uLMu5_4-sgx",
        "outputId": "79585c4e-b419-4e3a-ba62-18b204199b31"
      },
      "source": [
        "len(out_list)"
      ],
      "execution_count": 96,
      "outputs": [
        {
          "output_type": "execute_result",
          "data": {
            "text/plain": [
              "1178659"
            ]
          },
          "metadata": {},
          "execution_count": 96
        }
      ]
    },
    {
      "cell_type": "code",
      "metadata": {
        "id": "so5xfwcQNHGl"
      },
      "source": [
        "with open('cluster_assignments.json', 'w') as file:\n",
        "     file.write(json.dumps(out_list))"
      ],
      "execution_count": 93,
      "outputs": []
    },
    {
      "cell_type": "code",
      "metadata": {
        "id": "eIKfRDbkWQJk",
        "colab": {
          "base_uri": "https://localhost:8080/",
          "height": 17
        },
        "outputId": "32fb0769-cdd2-477f-c18b-24bf3dc474c0"
      },
      "source": [
        "from google.colab import files\n",
        "files.download('accident_hotspots.json')\n",
        "files.download('cluster_assignments.json')"
      ],
      "execution_count": 97,
      "outputs": [
        {
          "output_type": "display_data",
          "data": {
            "application/javascript": [
              "\n",
              "    async function download(id, filename, size) {\n",
              "      if (!google.colab.kernel.accessAllowed) {\n",
              "        return;\n",
              "      }\n",
              "      const div = document.createElement('div');\n",
              "      const label = document.createElement('label');\n",
              "      label.textContent = `Downloading \"${filename}\": `;\n",
              "      div.appendChild(label);\n",
              "      const progress = document.createElement('progress');\n",
              "      progress.max = size;\n",
              "      div.appendChild(progress);\n",
              "      document.body.appendChild(div);\n",
              "\n",
              "      const buffers = [];\n",
              "      let downloaded = 0;\n",
              "\n",
              "      const channel = await google.colab.kernel.comms.open(id);\n",
              "      // Send a message to notify the kernel that we're ready.\n",
              "      channel.send({})\n",
              "\n",
              "      for await (const message of channel.messages) {\n",
              "        // Send a message to notify the kernel that we're ready.\n",
              "        channel.send({})\n",
              "        if (message.buffers) {\n",
              "          for (const buffer of message.buffers) {\n",
              "            buffers.push(buffer);\n",
              "            downloaded += buffer.byteLength;\n",
              "            progress.value = downloaded;\n",
              "          }\n",
              "        }\n",
              "      }\n",
              "      const blob = new Blob(buffers, {type: 'application/binary'});\n",
              "      const a = document.createElement('a');\n",
              "      a.href = window.URL.createObjectURL(blob);\n",
              "      a.download = filename;\n",
              "      div.appendChild(a);\n",
              "      a.click();\n",
              "      div.remove();\n",
              "    }\n",
              "  "
            ],
            "text/plain": [
              "<IPython.core.display.Javascript object>"
            ]
          },
          "metadata": {}
        },
        {
          "output_type": "display_data",
          "data": {
            "application/javascript": [
              "download(\"download_9bf17975-be37-4912-923a-bbe125b8ddd7\", \"accident_hotspots.json\", 2085950)"
            ],
            "text/plain": [
              "<IPython.core.display.Javascript object>"
            ]
          },
          "metadata": {}
        },
        {
          "output_type": "display_data",
          "data": {
            "application/javascript": [
              "\n",
              "    async function download(id, filename, size) {\n",
              "      if (!google.colab.kernel.accessAllowed) {\n",
              "        return;\n",
              "      }\n",
              "      const div = document.createElement('div');\n",
              "      const label = document.createElement('label');\n",
              "      label.textContent = `Downloading \"${filename}\": `;\n",
              "      div.appendChild(label);\n",
              "      const progress = document.createElement('progress');\n",
              "      progress.max = size;\n",
              "      div.appendChild(progress);\n",
              "      document.body.appendChild(div);\n",
              "\n",
              "      const buffers = [];\n",
              "      let downloaded = 0;\n",
              "\n",
              "      const channel = await google.colab.kernel.comms.open(id);\n",
              "      // Send a message to notify the kernel that we're ready.\n",
              "      channel.send({})\n",
              "\n",
              "      for await (const message of channel.messages) {\n",
              "        // Send a message to notify the kernel that we're ready.\n",
              "        channel.send({})\n",
              "        if (message.buffers) {\n",
              "          for (const buffer of message.buffers) {\n",
              "            buffers.push(buffer);\n",
              "            downloaded += buffer.byteLength;\n",
              "            progress.value = downloaded;\n",
              "          }\n",
              "        }\n",
              "      }\n",
              "      const blob = new Blob(buffers, {type: 'application/binary'});\n",
              "      const a = document.createElement('a');\n",
              "      a.href = window.URL.createObjectURL(blob);\n",
              "      a.download = filename;\n",
              "      div.appendChild(a);\n",
              "      a.click();\n",
              "      div.remove();\n",
              "    }\n",
              "  "
            ],
            "text/plain": [
              "<IPython.core.display.Javascript object>"
            ]
          },
          "metadata": {}
        },
        {
          "output_type": "display_data",
          "data": {
            "application/javascript": [
              "download(\"download_1887c477-826a-44de-a00f-bc8596c57095\", \"cluster_assignments.json\", 98649946)"
            ],
            "text/plain": [
              "<IPython.core.display.Javascript object>"
            ]
          },
          "metadata": {}
        }
      ]
    },
    {
      "cell_type": "code",
      "metadata": {
        "id": "oTQlhBdoAGqb"
      },
      "source": [
        "clusters_compressed = []\n",
        "for i, points in enumerate(non_empty_clusters.values):\n",
        "  temp_compressed = {'cluster_id': i, 'points': points}\n",
        "  clusters_compressed.append(temp_compressed)\n"
      ],
      "execution_count": 108,
      "outputs": []
    },
    {
      "cell_type": "code",
      "metadata": {
        "id": "-AUUfVEyBjJ_"
      },
      "source": [
        ""
      ],
      "execution_count": null,
      "outputs": []
    }
  ]
}
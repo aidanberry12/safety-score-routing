{
 "cells": [
  {
   "cell_type": "code",
   "execution_count": 76,
   "metadata": {},
   "outputs": [],
   "source": [
    "import pandas as pd\n",
    "import numpy as np\n",
    "import sklearn\n",
    "from IPython.display import display\n",
    "from datetime import datetime"
   ]
  },
  {
   "cell_type": "markdown",
   "metadata": {},
   "source": [
    "# Data Cleaning\n",
    "\n",
    "Create variables from the available data such as:\n",
    "    - AM/PM\n",
    "    - Season\n",
    "    - Dark/Bright"
   ]
  },
  {
   "cell_type": "code",
   "execution_count": null,
   "metadata": {},
   "outputs": [],
   "source": [
    "df = pd.read_csv('US_Accidents_Dec20_updated.csv') #csv file with Tempearture and Visibility values filled\n",
    "df.head()"
   ]
  },
  {
   "cell_type": "code",
   "execution_count": 78,
   "metadata": {},
   "outputs": [],
   "source": [
    "df = df.drop(['Unnamed: 0', 'Unnamed: 0.1', 'Unnamed: 0.1.1'], axis =1)"
   ]
  },
  {
   "cell_type": "code",
   "execution_count": null,
   "metadata": {},
   "outputs": [],
   "source": [
    "pd.options.display.max_columns = None\n",
    "df.head()"
   ]
  },
  {
   "cell_type": "code",
   "execution_count": 80,
   "metadata": {},
   "outputs": [],
   "source": [
    "# create a night binary variable\n",
    "df['night'] = np.where(df['Sunrise_Sunset'] == 'Day', 0, 1)\n",
    "df['Precipitation(in)'] = df['Precipitation(in)'].fillna(0)\n",
    "df['Wind_Speed(mph)'] = df['Wind_Speed(mph)'].fillna(0)\n"
   ]
  },
  {
   "cell_type": "code",
   "execution_count": 89,
   "metadata": {},
   "outputs": [],
   "source": [
    "df['night'] = df['night'].dropna()\n",
    "df['Visibility(mi)'] = df['Visibility(mi)'].dropna()\n",
    "df['Temperature(F)'] = df['Temperature(F)'].dropna()"
   ]
  },
  {
   "cell_type": "code",
   "execution_count": null,
   "metadata": {},
   "outputs": [],
   "source": [
    "df.isna().sum()"
   ]
  },
  {
   "cell_type": "code",
   "execution_count": 83,
   "metadata": {},
   "outputs": [],
   "source": [
    "# remove tailing decimal from timestamp\n",
    "def clean_timestamp(timestamp):\n",
    "    if '.' in timestamp:\n",
    "        return timestamp.split('.')[0]\n",
    "    else:\n",
    "        return timestamp\n",
    "    \n",
    "def get_season(timestamp_str):\n",
    "    timestamp = datetime.strptime(timestamp_str, \"%Y-%m-%d %H:%M:%S\")\n",
    "    # get the current day of the year\n",
    "    doy = timestamp.timetuple().tm_yday\n",
    "\n",
    "    # \"day of year\" ranges for the northern hemisphere\n",
    "    spring = range(80, 172)\n",
    "    summer = range(172, 264)\n",
    "    fall = range(264, 355)\n",
    "    # winter = everything else\n",
    "\n",
    "    if doy in spring:\n",
    "        season = 'spring'\n",
    "    elif doy in summer:\n",
    "        season = 'summer'\n",
    "    elif doy in fall:\n",
    "        season = 'fall'\n",
    "    else:\n",
    "        season = 'winter'\n",
    "    return season"
   ]
  },
  {
   "cell_type": "code",
   "execution_count": 84,
   "metadata": {},
   "outputs": [],
   "source": [
    "df['Start_Time'] = df['Start_Time'].apply(clean_timestamp)\n",
    "df['season'] = df.apply(lambda row: get_season(row['Start_Time']), axis =1)"
   ]
  },
  {
   "cell_type": "code",
   "execution_count": null,
   "metadata": {},
   "outputs": [],
   "source": [
    "df.info()"
   ]
  },
  {
   "cell_type": "code",
   "execution_count": null,
   "metadata": {},
   "outputs": [],
   "source": [
    "df = pd.get_dummies(df, columns = ['season'])\n",
    "df.head()"
   ]
  },
  {
   "cell_type": "code",
   "execution_count": 94,
   "metadata": {},
   "outputs": [],
   "source": [
    "final_col_list = ['season_fall', 'season_spring', 'season_summer', 'season_winter', 'night', 'Wind_Speed(mph)', 'Temperature(F)', 'Visibility(mi)', 'Precipitation(in)', 'Severity']\n",
    "model_df = df[final_col_list].dropna()\n",
    "X = model_df.drop('Severity', axis = 1)\n",
    "y = model_df['Severity']"
   ]
  },
  {
   "cell_type": "code",
   "execution_count": null,
   "metadata": {},
   "outputs": [],
   "source": [
    "X.isna().sum()"
   ]
  },
  {
   "cell_type": "markdown",
   "metadata": {},
   "source": [
    "# Lasso Regression\n",
    "\n",
    "Fit a Lasso Regression model to predict the accident severity score. This model will perform variable selection on the available variables so we can see which are the most important for predicting accident severity and weight these more heavily."
   ]
  },
  {
   "cell_type": "code",
   "execution_count": 121,
   "metadata": {},
   "outputs": [
    {
     "data": {
      "text/plain": [
       "Lasso(alpha=0.5, copy_X=True, fit_intercept=True, max_iter=1000, normalize=True,\n",
       "      positive=False, precompute=False, random_state=42, selection='cyclic',\n",
       "      tol=0.0001, warm_start=False)"
      ]
     },
     "execution_count": 121,
     "metadata": {},
     "output_type": "execute_result"
    }
   ],
   "source": [
    "from sklearn.linear_model import Lasso\n",
    "\n",
    "reg = Lasso(normalize = True, alpha = 0.5, random_state = 42)\n",
    "reg.fit(X, y)"
   ]
  },
  {
   "cell_type": "code",
   "execution_count": 122,
   "metadata": {},
   "outputs": [
    {
     "name": "stdout",
     "output_type": "stream",
     "text": [
      "season_fall: -0.0\n",
      "season_spring: 0.0\n",
      "season_summer: 0.0\n",
      "season_winter: 0.0\n",
      "night: -0.0\n",
      "Wind_Speed(mph): 0.0\n",
      "Temperature(F): -0.0\n",
      "Visibility(mi): 0.0\n",
      "Precipitation(in): 0.0\n"
     ]
    }
   ],
   "source": [
    "zip_coef_lasso = zip(X.columns, reg.coef_)\n",
    "for col, coef in zip_coef_lasso:\n",
    "    print('{}: {}'.format(col, round(coef,3)))"
   ]
  },
  {
   "cell_type": "markdown",
   "metadata": {},
   "source": [
    "# Linear Regression"
   ]
  },
  {
   "cell_type": "code",
   "execution_count": 111,
   "metadata": {},
   "outputs": [
    {
     "name": "stdout",
     "output_type": "stream",
     "text": [
      "Index(['season_fall', 'season_spring', 'season_summer', 'season_winter',\n",
      "       'night', 'Wind_Speed(mph)', 'Temperature(F)', 'Visibility(mi)',\n",
      "       'Precipitation(in)'],\n",
      "      dtype='object')\n",
      "[-1.52413881e+09 -1.52413881e+09 -1.52413881e+09 -1.52413881e+09\n",
      "  2.33602829e-02  2.23215469e-03 -2.47993557e-03  2.20300558e-03\n",
      "  1.29316884e-02]\n"
     ]
    }
   ],
   "source": [
    "from sklearn.linear_model import LinearRegression\n",
    "\n",
    "reg2 = LinearRegression(normalize = True)\n",
    "reg2.fit(X, y)\n",
    "\n",
    "print(X.columns)\n",
    "print(reg2.coef_)"
   ]
  },
  {
   "cell_type": "code",
   "execution_count": 112,
   "metadata": {},
   "outputs": [
    {
     "name": "stdout",
     "output_type": "stream",
     "text": [
      "season_fall: -1524138810.665\n",
      "season_spring: -1524138810.485\n",
      "season_summer: -1524138810.399\n",
      "season_winter: -1524138810.592\n",
      "night: 0.023\n",
      "Wind_Speed(mph): 0.002\n",
      "Temperature(F): -0.002\n",
      "Visibility(mi): 0.002\n",
      "Precipitation(in): 0.013\n"
     ]
    }
   ],
   "source": [
    "zip_coef_lin_reg = zip(X.columns, reg2.coef_)\n",
    "for col, coef in zip_coef_lin_reg:\n",
    "    print('{}: {}'.format(col, round(coef,3)))"
   ]
  },
  {
   "cell_type": "markdown",
   "metadata": {},
   "source": [
    "# Random Forest"
   ]
  },
  {
   "cell_type": "code",
   "execution_count": 104,
   "metadata": {},
   "outputs": [
    {
     "name": "stdout",
     "output_type": "stream",
     "text": [
      "Index(['season_fall', 'season_spring', 'season_summer', 'season_winter',\n",
      "       'night', 'Wind_Speed(mph)', 'Temperature(F)', 'Visibility(mi)',\n",
      "       'Precipitation(in)'],\n",
      "      dtype='object')\n",
      "[0.04584467 0.00615073 0.00642469 0.00727482 0.04055295 0.21360162\n",
      " 0.39205639 0.20610566 0.08198846]\n"
     ]
    }
   ],
   "source": [
    "from sklearn.ensemble import RandomForestRegressor\n",
    "\n",
    "rf = RandomForestRegressor(random_state = 42)\n",
    "rf.fit(X, y)\n",
    "\n",
    "print(X.columns)\n",
    "print(rf.feature_importances_)"
   ]
  },
  {
   "cell_type": "code",
   "execution_count": 107,
   "metadata": {},
   "outputs": [
    {
     "name": "stdout",
     "output_type": "stream",
     "text": [
      "season_fall: 0.046\n",
      "season_spring: 0.006\n",
      "season_summer: 0.006\n",
      "season_winter: 0.007\n",
      "night: 0.041\n",
      "Wind_Speed(mph): 0.214\n",
      "Temperature(F): 0.392\n",
      "Visibility(mi): 0.206\n",
      "Precipitation(in): 0.082\n"
     ]
    }
   ],
   "source": [
    "zipped_feature_importance = zip(X.columns, rf.feature_importances_)\n",
    "for col, importance in zipped_feature_importance:\n",
    "    print('{}: {}'.format(col, round(importance,3)))"
   ]
  }
 ],
 "metadata": {
  "kernelspec": {
   "display_name": "Python 3",
   "language": "python",
   "name": "python3"
  },
  "language_info": {
   "codemirror_mode": {
    "name": "ipython",
    "version": 3
   },
   "file_extension": ".py",
   "mimetype": "text/x-python",
   "name": "python",
   "nbconvert_exporter": "python",
   "pygments_lexer": "ipython3",
   "version": "3.7.6"
  }
 },
 "nbformat": 4,
 "nbformat_minor": 4
}
